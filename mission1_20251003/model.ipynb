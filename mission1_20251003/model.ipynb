{
 "cells": [
  {
   "cell_type": "code",
   "execution_count": 13,
   "id": "08903bd3",
   "metadata": {},
   "outputs": [],
   "source": [
    "import os\n",
    "from dotenv import load_dotenv\n",
    "\n",
    "from openai import OpenAI\n",
    "\n",
    "load_dotenv()\n",
    "\n",
    "OPENAI_API_KEY = os.getenv(\"OPENAI_API_KEY\")"
   ]
  },
  {
   "cell_type": "code",
   "execution_count": null,
   "id": "39b2c91a",
   "metadata": {},
   "outputs": [
    {
     "name": "stdout",
     "output_type": "stream",
     "text": [
      "Hello! How can I assist you today?\n"
     ]
    }
   ],
   "source": [
    "client = OpenAI(api_key=OPENAI_API_KEY)\n",
    "\n",
    "completion = client.chat.completions.create(\n",
    "    model=\"gpt-4o-mini-2024-07-18\",\n",
    "    messages=[\n",
    "        {\"role\": \"user\", \"content\": \"Hello!\"},\n",
    "    ],\n",
    "    temperature=0.0,\n",
    ")\n",
    "\n",
    "print(completion.choices[0].message.content)"
   ]
  },
  {
   "cell_type": "code",
   "execution_count": 15,
   "id": "b8722628",
   "metadata": {},
   "outputs": [
    {
     "data": {
      "text/plain": [
       "[{'review': '9살 11살아이와함께 해돋이보러 첫방문한 그랑베이호텔 너무좋았어요.\\n아이와 함께 여행을 다니다보니 청결이가장 중요한데  침구도 깨끗하고, 구석구석 먼지없이 깨끗했고요 욕실도 깔끔했습니다. 아이들이 있어 환기가 필수인데룸마다 발코니도 있어서 환기하기도 좋았어요. \\n침구류도 쾌적해서 꿀잠잤네요.\\n아이들도 엄마 여기좋다 또오고싶다 이러면서 만족스러워하니 엄마로써 아이들웃음에 더 좋았네요. \\n바로앞이 바다여서 바다보며 힐링도하고요 시원하게 부셔지는 파도가 참 인상적이였어요.  \\n해돋이 명소더라고요. 해변모래도 고와서 아이들이 뛰어다니며 놀기좋았어요. \\n다음에는 인피니트 풀도 이용해보러 또 재방문 하려고요 ^^',\n",
       "  'stars': 5,\n",
       "  'date': '2025.01.01'},\n",
       " {'review': '신상호텔이라 그런지 깨끗하고 좋아요! 수영장도 잘 이용했습니다~ 카드키가 없고 도어락 방식이라 넘 편하구 좋았어요~^^*',\n",
       "  'stars': 5,\n",
       "  'date': '2024.08.25'},\n",
       " {'review': '아직 신축이라 싸게 잘 놀고 온것 같아요\\n아이들과 즐거운 시간이였습니다~^^',\n",
       "  'stars': 5,\n",
       "  'date': '2024.08.10'}]"
      ]
     },
     "execution_count": 15,
     "metadata": {},
     "output_type": "execute_result"
    }
   ],
   "source": [
    "import json\n",
    "\n",
    "with open(\"./resource/reviews.json\", \"r\") as f:\n",
    "    review_list = json.load(f)\n",
    "\n",
    "review_list[:3]"
   ]
  },
  {
   "cell_type": "markdown",
   "id": "8aa43353",
   "metadata": {},
   "source": [
    "### 좋은 평점 및 나쁜 평점 정의\n",
    "- 좋은 평점 = 별 5개\n",
    "- 나쁜 평점 = 별 4개 이하"
   ]
  },
  {
   "cell_type": "code",
   "execution_count": null,
   "id": "07ba7bd0",
   "metadata": {},
   "outputs": [
    {
     "name": "stdout",
     "output_type": "stream",
     "text": [
      "좋은 평점: 435, 나쁜 평점: 200\n"
     ]
    }
   ],
   "source": [
    "good_cnt = 0\n",
    "bad_cnt = 0\n",
    "\n",
    "for review in review_list:\n",
    "    if review[\"stars\"] == 5:\n",
    "        good_cnt += 1\n",
    "    else:\n",
    "        bad_cnt += 1\n",
    "\n",
    "print(f\"좋은 평점: {good_cnt}, 나쁜 평점: {bad_cnt}\")"
   ]
  },
  {
   "cell_type": "markdown",
   "id": "f938c293",
   "metadata": {},
   "source": [
    "### 리뷰 구분해서 저장"
   ]
  },
  {
   "cell_type": "code",
   "execution_count": null,
   "id": "621beac0",
   "metadata": {},
   "outputs": [
    {
     "name": "stdout",
     "output_type": "stream",
     "text": [
      "['[review_start]9살 11살아이와함께 해돋이보러 첫방문한 그랑베이호텔 너무좋았어요.\\n아이와 함께 여행을 다니다보니 청결이가장 중요한데  침구도 깨끗하고, 구석구석 먼지없이 깨끗했고요 욕실도 깔끔했습니다. 아이들이 있어 환기가 필수인데룸마다 발코니도 있어서 환기하기도 좋았어요. \\n침구류도 쾌적해서 꿀잠잤네요.\\n아이들도 엄마 여기좋다 또오고싶다 이러면서 만족스러워하니 엄마로써 아이들웃음에 더 좋았네요. \\n바로앞이 바다여서 바다보며 힐링도하고요 시원하게 부셔지는 파도가 참 인상적이였어요.  \\n해돋이 명소더라고요. 해변모래도 고와서 아이들이 뛰어다니며 놀기좋았어요. \\n다음에는 인피니트 풀도 이용해보러 또 재방문 하려고요 ^^[review_end]', '[review_start]신상호텔이라 그런지 깨끗하고 좋아요! 수영장도 잘 이용했습니다~ 카드키가 없고 도어락 방식이라 넘 편하구 좋았어요~^^*[review_end]', '[review_start]아직 신축이라 싸게 잘 놀고 온것 같아요\\n아이들과 즐거운 시간이였습니다~^^[review_end]']\n",
      "['[review_start]편히 잘 쉬었습니다!![review_end]', '[review_start]청결한 객실이 마음에 들고 수영장이 좋아요[review_end]', '[review_start]최악입니다....\\n조식도 최악 복도 방음도 최악....\\n그냥 돈없어서 여기 방문한 제가 바보죠 뭐[review_end]']\n"
     ]
    }
   ],
   "source": [
    "good_reviews = []\n",
    "bad_reviews = []\n",
    "\n",
    "for review in review_list:\n",
    "    if review[\"stars\"] == 5:\n",
    "        good_reviews.append(\"[review_start]\" + review[\"review\"] + \"[review_end]\")\n",
    "    else:\n",
    "        bad_reviews.append(\"[review_start]\" + review[\"review\"] + \"[review_end]\")\n",
    "\n",
    "print(good_reviews[:3])\n",
    "print(bad_reviews[:3])"
   ]
  },
  {
   "cell_type": "code",
   "execution_count": null,
   "id": "396394a0",
   "metadata": {},
   "outputs": [
    {
     "name": "stdout",
     "output_type": "stream",
     "text": [
      "[review_start]9살 11살아이와함께 해돋이보러 첫방문한 그랑베이호텔 너무좋았어요.\n",
      "아이와 함께 여행을 다니다보니 청결이가장 중요한데  침구도 깨끗하고, 구석구석 먼지없이\n",
      "[review_start]편히 잘 쉬었습니다!![review_end]\n",
      "[review_start]청결한 객실이 마음에 들고 수영장이 좋아요[review_end]\n",
      "[review_sta\n"
     ]
    }
   ],
   "source": [
    "good_reviews_text = \"\\n\".join(good_reviews)\n",
    "bad_reviews_text = \"\\n\".join(bad_reviews)\n",
    "\n",
    "print(good_reviews_text[:100])\n",
    "print(bad_reviews_text[:100])"
   ]
  },
  {
   "cell_type": "markdown",
   "id": "710297e1",
   "metadata": {},
   "source": [
    "### 전처리 함수 작성"
   ]
  },
  {
   "cell_type": "code",
   "execution_count": null,
   "id": "937bc3be",
   "metadata": {},
   "outputs": [
    {
     "name": "stdout",
     "output_type": "stream",
     "text": [
      "[REVIEW_START]파노라마룸 최고에요^^!\n",
      "수영장도 예쁨~~!![REVIEW_END]\n",
      "[REVIEW_START]깨끗하고 좋았습니다\n",
      "안좋은평보고 걱정했는데 저는 거슬리는게 하\n",
      "[REVIEW_START]편히 잘 쉬었습니다!![REVIEW_END]\n",
      "[REVIEW_START]청결한 객실이 마음에 들고 수영장이 좋아요[REVIEW_END]\n",
      "[REVIEW_STA\n"
     ]
    }
   ],
   "source": [
    "import datetime\n",
    "from dateutil import parser\n",
    "\n",
    "\n",
    "def preprocess_reviews(path=\"./resource/reviews.json\"):\n",
    "    with open(path, \"r\", encoding=\"utf-8\") as f:\n",
    "        review_list = json.load(f)\n",
    "\n",
    "    reviews_good, reviews_bad = [], []\n",
    "\n",
    "    current_date = datetime.datetime.now()\n",
    "    date_boundary = current_date - datetime.timedelta(days=3 * 30)\n",
    "\n",
    "    for review in review_list:\n",
    "        review_date_str = review[\"date\"]\n",
    "        try:\n",
    "            review_date = parser.parse(review_date_str)\n",
    "        except (ValueError, TypeError):\n",
    "            review_date = current_date\n",
    "\n",
    "        # 3개월 이전 리뷰는 제외\n",
    "        if review_date < date_boundary:\n",
    "            continue\n",
    "\n",
    "        # 평점 구분해서 리뷰 저장\n",
    "        if review[\"stars\"] == 5:\n",
    "            reviews_good.append(\"[REVIEW_START]\" + review[\"review\"] + \"[REVIEW_END]\")\n",
    "        else:\n",
    "            reviews_bad.append(\"[REVIEW_START]\" + review[\"review\"] + \"[REVIEW_END]\")\n",
    "\n",
    "    reviews_good_text = \"\\n\".join(reviews_good)\n",
    "    reviews_bad_text = \"\\n\".join(reviews_bad)\n",
    "\n",
    "    return reviews_good_text, reviews_bad_text\n",
    "\n",
    "\n",
    "good, bad = preprocess_reviews()\n",
    "\n",
    "print(good[:100])\n",
    "print(bad[:100])"
   ]
  },
  {
   "cell_type": "markdown",
   "id": "dd6e02e5",
   "metadata": {},
   "source": [
    "### 평가용 함수 작성"
   ]
  },
  {
   "cell_type": "markdown",
   "id": "4db2c2ec",
   "metadata": {},
   "source": [
    "#### 평가 기준 설정\n",
    "\n",
    "- MT-Bench 논문 기반 Pairwise Comparision (=LLM 기반 평가)\n",
    "  - 비교하는 방식 vs. 점수 매기는 방식\n",
    "  - 점수라는게 애매 할 수 있음 (ex. 어느 정도의 요약 품질이 3점인가?)\n",
    "  - 경험상 점수보다는 비교가 상대적으로 더 정확한 편\n",
    "\n",
    "#### 평가 스크립트 작성\n",
    "- MT-Bench 논문 Prompt에서 일부 단어만 수정 (ex. Korean summaries, accommodations)"
   ]
  },
  {
   "cell_type": "code",
   "execution_count": null,
   "id": "003d5904",
   "metadata": {},
   "outputs": [],
   "source": [
    "def pairwise_eval(reviews, answer_a, answer_b):\n",
    "    eval_prompt = f\"\"\"[System]\n",
    "Please act as an impartial judge and evaluate the quality of the Korean summaries provided by two\n",
    "AI assistants to the set of user reviews on accommodations displayed below. You should choose the assistant that\n",
    "follows the user’s instructions and answers the user’s question better. Your evaluation\n",
    "should consider factors such as the helpfulness, relevance, accuracy, depth, creativity,\n",
    "and level of detail of their responses. Begin your evaluation by comparing the two\n",
    "responses and provide a short explanation. Avoid any position biases and ensure that the\n",
    "order in which the responses were presented does not influence your decision. Do not allow\n",
    "the length of the responses to influence your evaluation. Do not favor certain names of\n",
    "the assistants. Be as objective as possible. After providing your explanation, output your\n",
    "final verdict by strictly following this format: \"[[A]]\" if assistant A is better, \"[[B]]\"\n",
    "if assistant B is better, and \"[[C]]\" for a tie.\n",
    "[User Reviews]\n",
    "{reviews}\n",
    "[The Start of Assistant A’s Answer]\n",
    "{answer_a}\n",
    "[The End of Assistant A’s Answer]\n",
    "[The Start of Assistant B’s Answer]\n",
    "{answer_b}\n",
    "[The End of Assistant B’s Answer]\"\"\"\n",
    "\n",
    "    completion = client.chat.completions.create(\n",
    "        model=\"gpt-4o-mini-2024-07-18\",\n",
    "        messages=[{\"role\": \"user\", \"content\": eval_prompt}],\n",
    "        temperature=0.0,\n",
    "    )\n",
    "\n",
    "    return completion"
   ]
  },
  {
   "cell_type": "markdown",
   "id": "757d50d5",
   "metadata": {},
   "source": [
    "### 베이스라인 모델"
   ]
  },
  {
   "cell_type": "code",
   "execution_count": 57,
   "id": "c2d6810a",
   "metadata": {},
   "outputs": [],
   "source": [
    "PROMPT_BASELINE = f\"\"\"아래 숙소 리뷰에 대해 5문장 내로 요약해줘:\"\"\""
   ]
  },
  {
   "cell_type": "code",
   "execution_count": null,
   "id": "344aeb98",
   "metadata": {},
   "outputs": [
    {
     "name": "stdout",
     "output_type": "stream",
     "text": [
      "67\n",
      "1. 깨끗하고 좋았고, 거슬리는 것이 없었으며, 다시 갈 의향이 있음.\n",
      "2. 수영장이 아쉬웠지만, 직원 친절하고 주변이 공사중이어도 만족함.\n",
      "3. 16층 바다 뷰가 좋고, 가족 여행으로 좋았음.\n",
      "4. 양양여행으로 편안하게 쉬다 왔으며, 부대시설 다양하고 해수욕장이 가까워 좋았음.\n",
      "5. 낙산해변이 핫한 곳이라고 하며, 주변 맛집과 생맥주가 좋았음.\n"
     ]
    }
   ],
   "source": [
    "reviews, _ = preprocess_reviews(path=\"./resource/reviews.json\")\n",
    "\n",
    "\n",
    "def summarize(reviews, prompt, temperature=0.0, model=\"gpt-3.5-turbo-0125\"):\n",
    "    prompt = prompt + \"\\n\\n\" + reviews\n",
    "\n",
    "    completion = client.chat.completions.create(\n",
    "        model=model,\n",
    "        messages=[{\"role\": \"user\", \"content\": prompt}],\n",
    "        temperature=temperature,\n",
    "    )\n",
    "\n",
    "    return completion\n",
    "\n",
    "\n",
    "print(summarize(reviews, PROMPT_BASELINE).choices[0].message.content)"
   ]
  },
  {
   "cell_type": "code",
   "execution_count": null,
   "id": "1cb1410c",
   "metadata": {},
   "outputs": [],
   "source": [
    "summary_real_20251002 = \"해변과 가까운 위치에 있는 숙소로, 깨끗한 객실과 다양한 부대시설이 마련되어 있습니다. 루프탑 수영장과 인피니티 풀이 있어 가족 단위 여행객에게 적합하며, 주변에 편의시설과 맛집도 많아 편리합니다. 그러나 엘리베이터 수가 부족하여 이용 시 불편함이 있을 수 있으며, 성수기에는 주차 공간도 협소할 수 있습니다. 전반적으로 청결 상태가 우수하고, 재방문 의사를 가진 이용자들이 많습니다.\""
   ]
  },
  {
   "cell_type": "code",
   "execution_count": null,
   "id": "e413409f",
   "metadata": {},
   "outputs": [
    {
     "name": "stdout",
     "output_type": "stream",
     "text": [
      "In evaluating the summaries provided by the two assistants, it is clear that both responses capture key aspects of the user reviews, but they differ in depth and detail.\n",
      "\n",
      "Assistant A presents a list format that summarizes individual reviews, highlighting specific points such as cleanliness, views, and staff friendliness. However, it lacks a cohesive narrative and does not synthesize the information into a comprehensive overview. While it does mention various positive aspects, it does not address any potential drawbacks or provide a balanced view.\n",
      "\n",
      "On the other hand, Assistant B offers a more integrated summary that encapsulates the overall experience of the accommodations. It mentions the cleanliness, proximity to the beach, and the availability of various facilities, while also acknowledging the issues with elevator availability and parking during peak season. This response provides a more rounded perspective, making it more helpful for someone looking to understand both the strengths and weaknesses of the accommodation.\n",
      "\n",
      "Overall, Assistant B's response is more relevant and accurate, as it synthesizes the information into a coherent summary that reflects the overall sentiment of the user reviews.\n",
      "\n",
      "Final verdict: [[B]]\n"
     ]
    }
   ],
   "source": [
    "print(\n",
    "    pairwise_eval(\n",
    "        reviews,\n",
    "        summarize(reviews, PROMPT_BASELINE).choices[0].message.content,\n",
    "        summary_real_20251002,\n",
    "    )\n",
    "    .choices[0]\n",
    "    .message.content\n",
    ")"
   ]
  },
  {
   "cell_type": "markdown",
   "id": "e652a8fe",
   "metadata": {},
   "source": [
    "### 대규모 평가 스크립트"
   ]
  },
  {
   "cell_type": "markdown",
   "id": "bfdcad74",
   "metadata": {},
   "source": [
    "- 원래는 많은 수의 다양한 데이터에 대해 평가를 하지만, 동일한 Prompt에 대해 temperature 높여서 평가 진행"
   ]
  },
  {
   "cell_type": "code",
   "execution_count": null,
   "id": "50397d0d",
   "metadata": {},
   "outputs": [
    {
     "data": {
      "text/plain": [
       "['1. 깨끗하고 좋아서 다시 갈 예정입니다.\\n2. 수영장이 조금 아쉽지만, 직원분들 친절하고 주변 환경도 괜찮았습니다.\\n3. 16층 바다뷰 객실이 좋았고 가족 여행으로 즐거운 시간 보냈습니다.\\n4. 양양여행을 편하게 즐길 수 있었고 전체적으로 만족스러웠습니다.\\n5. 가격대비 좋은 숙소이지만 엘리베이터 대기시간이 길어 조금 불편함을 느꼈습니다.',\n",
       " '1. 깨끗하고 편안한 숙소로 좋은평을 받았으며, 다양한 부대시설과 바다 뷰가 매력적이었다.\\n2. 수영장이 아쉽긴했지만, 친절한 직원과 바다 근처 위치, 편의시설이 좋았다는 후기.\\n3. 가족여행으로 이용한 숙소는 16층 뷰와 해변 근접이 좋았다.\\n4. 2박3일 양양여행 후 맘에 드는 뷰와 수영장, 부대시설에 대한 긍정적인 리뷰.\\n5. 뷰가 좋고 방 상태도 좋았으며, 조식과 직원의 서비스에 만족했다.',\n",
       " '1. 깨끗하고 좋았으며, 다음에도 방문할 의향이 있습니다.\\n2. 수영장은 아쉬움이 있지만, 직원 친절하고 주변에 편의시설이 많아서 아이와 즐거운 시간을 보낼 수 있었습니다.\\n3. 16층 뷰가 좋고, 바다로 바로 접근할 수 있어서 가족 여행으로 즐거운 시간을 보냈습니다.\\n4. 부대시설과 해수욕장이 가까워서 편하게 여행할 수 있었으며, 엘리베이터 대기시간이 조금 길었던 것을 제외하고 만족했습니다.\\n5. 수영장은 좋았지만, 규칙과 엘리베이터가 불편했으며 전반적으로는 만족스러운 휴가를 보냈습니다.',\n",
       " '청결하고 좋았으며 거슬리는 점이 없었고, 다시 방문하고 싶어했으며 수영장이 아쉬웠지만 아이들과 즐거운 시간을 보내고 좋은 서비스를 받았다. \\n\\n낙산해변 근처이고 뷰와 깨끗한 객실로 가족 여행을 만족시켰다. \\n\\n양양여행에서 편안하게 쉴 수 있었고, 객실 뷰와 부대시설을 칭찬하였으나 방음과 직원의 친절에 살짝 아쉬움이 있었다. \\n\\n낙산해변 근처로 환경이 좋아 많은 매력을 느꼈고, 다양한 부대시설로 재방문을 고려했으나 수영장에서의 엘리베이터 대기시간이 조금 아쉽다고 느꼈다. \\n\\n루프탑 수영장을 즐기며 휴가를 보내고자 했으나 수영장 관련 규칙 관련 오해와 엘리베이터 대기시간 문제로 불편함이 있었다.',\n",
       " '1. 깨끗하고 좋았으며 거스러운 점 없음. 다시 방문 의사 있음.\\n2. 수영장이 아쉬웠지만, 주변 편의시설로 재미 있게 보내고 나름 만족.\\n3. 가족여행으로 16층 뷰 좋고, 바다 접근 용이하여 좋았음.\\n4. 양양 여행 후 편하게 쉬다옴. 수영장은 낮에 가는게 좋고 방음은 조금 아쉬움.\\n5. 낙산해변 주변이 핫한 곳으로 근처 맛집, 생맥주 맛있음.',\n",
       " '청결하고 좋았으며, 다음에도 방문하고 싶은 숙소. 수영장은 조금 아쉬워도 직원은 친절하고, 바다와 가까워 가족여행으로 훌륭한 선택.루프탑 수영장에서의 풍경이 아름답지만 엘리베이터가 조금 느린 것이 아쉽고, 부대시설이 다양하며 해수욕장이 가까워서 좋은 위치.해수욕장 바로 앞에 있고, 주변 편의시설이 좋아서 가족 단위로 즐거운 휴가를 보낼 수 있음.루프탑 수영장이 인기이지만 엘리베이터 대기시간이 길어 불편함 있는 곳.',\n",
       " '1. 깨끗하고 좋은 객실, 걱정할 것 없는 좋은 경험\\n2. 수영장은 한 번만 이용 가능하지만, 아이와 재미나게 보낼 수 있음, 주변 공사는 상관없음\\n3. 16층 바다뷰로 가족여행에 이상적인 숙소\\n4. 양양여행으로 즐거운 휴식, 뷰가 아름다움, 약간의 흠은 있지만 전반적으로 훌륭한 시설\\n5. 루프탑 수영장이 좋으나 엘리베이터 대기 시간이 길어서 불편한 점 최소화 필요',\n",
       " '- 깨끗하고 좋았고 걱정할 것 없이 다시 방문할 의향 있음\\n- 수영장은 한 번 이용 가능한데도 재미나게 이용함\\n- 16층 뷰가 좋고 바다 접근 용이해서 가족 여행으로 즐거웠다\\n- 다양한 부대시설이 있고 바다가 가까워서 편하게 놀기 좋음\\n- 편안하게 쉬다 와서 만족했으나 엘리베이터 대기시간이 조금 있었음',\n",
       " '1. 숙소는 깨끗하고 좋았으며 걱정할 것이 없었음\\n2. 수영장은 아쉬움이 있었지만, 직원은 친절하고 주변 환경은 괜찮았음\\n3. 가족여행을 위한 숙소로 뷰가 좋고 바다도 가까웠음\\n4. 양양여행에서 즐거운 시간 보낼 수 있었으며, 약간의 불편함 있었지만 전반적으로 만족\\n5. 주변 환경이 좋고 부대시설도 다양하며, 수영장은 좋았지만 엘리베이터가 조금 불편함',\n",
       " '1. 숙소는 깨끗하고 좋았으며 거슬리는 요소가 없었습니다. 또한, 다시 방문하고 싶은 숙소였습니다.\\n2. 수영장이 작긴 했지만, 아이와 즐거운 시간을 보낼 수 있었고, 직원분들도 친절하셨습니다. 주변이 공사중이라도 상관없는 좋은 경험이었습니다.\\n3. 가족여행하기 좋은 16층 숙소로 바다 뷰에 만족했고, 깨끗한 객실이 좋았습니다.\\n4. 양양 여행을 편하게 즐길 수 있는 곳으로 좋은 뷰, 부대시설, 그러나 엘리베이터 대기 시간이 조금 아쉬웠습니다.\\n5. 주위에 맛집과 생맥주 한잔할 곳이 있어 낙산해변이 핫하다는 느낌을 받았고, 다시 찾고 싶은 숙소입니다.']"
      ]
     },
     "execution_count": 61,
     "metadata": {},
     "output_type": "execute_result"
    }
   ],
   "source": [
    "eval_count = 10\n",
    "\n",
    "summaries_baseline = [\n",
    "    summarize(reviews, PROMPT_BASELINE, temperature=1.0).choices[0].message.content\n",
    "    for _ in range(eval_count)\n",
    "]\n",
    "summaries_baseline"
   ]
  },
  {
   "cell_type": "code",
   "execution_count": null,
   "id": "1f144072",
   "metadata": {},
   "outputs": [
    {
     "name": "stderr",
     "output_type": "stream",
     "text": [
      "100%|██████████| 10/10 [00:50<00:00,  5.08s/it]"
     ]
    },
    {
     "name": "stdout",
     "output_type": "stream",
     "text": [
      "Wins: 3, Losses: 7, Ties: 0\n"
     ]
    },
    {
     "name": "stderr",
     "output_type": "stream",
     "text": [
      "\n"
     ]
    }
   ],
   "source": [
    "from tqdm import tqdm\n",
    "\n",
    "\n",
    "def pairwise_eval_batch(reviews, answers_a, answers_b):\n",
    "    a_cnt, b_cnt, draw_cnt = 0, 0, 0\n",
    "    for i in tqdm(range(len(answers_a))):\n",
    "        completion = pairwise_eval(reviews, answers_a[i], answers_b[i])\n",
    "        verdict_text = completion.choices[0].message.content\n",
    "\n",
    "        if \"[[A]]\" in verdict_text:\n",
    "            a_cnt += 1\n",
    "        elif \"[[B]]\" in verdict_text:\n",
    "            b_cnt += 1\n",
    "        elif \"[[C]]\" in verdict_text:\n",
    "            draw_cnt += 1\n",
    "        else:\n",
    "            print(\"Evaluation Error\")\n",
    "\n",
    "    return a_cnt, b_cnt, draw_cnt\n",
    "\n",
    "\n",
    "wins, losses, ties = pairwise_eval_batch(\n",
    "    reviews,\n",
    "    summaries_baseline,\n",
    "    [summary_real_20251002 for _ in range(len(summaries_baseline))],\n",
    ")\n",
    "print(f\"Wins: {wins}, Losses: {losses}, Ties: {ties}\")"
   ]
  },
  {
   "cell_type": "markdown",
   "id": "52060f37",
   "metadata": {},
   "source": [
    "### 모델 고도화1\n",
    "- 조건 명시"
   ]
  },
  {
   "cell_type": "code",
   "execution_count": null,
   "id": "7a1f1d71",
   "metadata": {},
   "outputs": [
    {
     "name": "stderr",
     "output_type": "stream",
     "text": [
      "100%|██████████| 10/10 [00:45<00:00,  4.52s/it]"
     ]
    },
    {
     "name": "stdout",
     "output_type": "stream",
     "text": [
      "Wins: 4, Losses: 6, Ties: 0\n"
     ]
    },
    {
     "name": "stderr",
     "output_type": "stream",
     "text": [
      "\n"
     ]
    }
   ],
   "source": [
    "prompt = f\"\"\"당신은 요약 전문가입니다. 사용자 숙소 리뷰들이 주어졌을 때 요약하는 것이 당신의 목표입니다.\n",
    "\n",
    "요약 결과는 다음 조건들을 충족해야 합니다:\n",
    "1. 모든 문장은 항상 존댓말로 끝나야 합니다.\n",
    "2. 숙소에 대해 소개하는 톤앤매너로 작성해주세요.\n",
    "  2-1. 좋은 예시\n",
    "    a) 전반적으로 좋은 숙소였고 방음도 괜찮았다는 평입니다.\n",
    "    b) 재방문 예정이라는 평들이 존재합니다.\n",
    "  2-2. 나쁜 예시\n",
    "    a) 좋은 숙소였고 방음도 괜찮았습니다.\n",
    "    b) 재방문 예정입니다.\n",
    "3. 요약 결과는 최소 2문장, 최대 5문장 사이로 작성해주세요.\n",
    "    \n",
    "아래 숙소 리뷰들에 대해 요약해주세요:\"\"\"\n",
    "\n",
    "eval_count = 10\n",
    "summaries = [\n",
    "    summarize(reviews, prompt, temperature=1.0).choices[0].message.content\n",
    "    for _ in range(eval_count)\n",
    "]\n",
    "wins, losses, ties = pairwise_eval_batch(\n",
    "    reviews, summaries, [summary_real_20251002 for _ in range(len(summaries))]\n",
    ")\n",
    "print(f\"Wins: {wins}, Losses: {losses}, Ties: {ties}\")"
   ]
  },
  {
   "cell_type": "markdown",
   "id": "520cb47b",
   "metadata": {},
   "source": [
    "### 모델 고도화 2 \n",
    "- 입력 데이터의 품질 증가"
   ]
  },
  {
   "cell_type": "code",
   "execution_count": null,
   "id": "13eed5fa",
   "metadata": {},
   "outputs": [],
   "source": [
    "import datetime\n",
    "from dateutil import parser\n",
    "\n",
    "\n",
    "def preprocess_reviews(path=\"./resource/reviews.json\"):\n",
    "    with open(path, \"r\", encoding=\"utf-8\") as f:\n",
    "        review_list = json.load(f)\n",
    "\n",
    "    reviews_good, reviews_bad = [], []\n",
    "\n",
    "    current_date = datetime.datetime.now()\n",
    "    date_boundary = current_date - datetime.timedelta(days=3 * 30)\n",
    "\n",
    "    filtered_cnt = 0\n",
    "    for review in review_list:\n",
    "        review_date_str = review[\"date\"]\n",
    "        try:\n",
    "            review_date = parser.parse(review_date_str)\n",
    "        except (ValueError, TypeError):\n",
    "            review_date = current_date\n",
    "\n",
    "        if review_date < date_boundary:\n",
    "            continue\n",
    "        if len(review[\"review\"]) < 30:\n",
    "            filtered_cnt += 1\n",
    "            continue\n",
    "\n",
    "        if review[\"stars\"] == 5:\n",
    "            reviews_good.append(\"[REVIEW_START]\" + review[\"review\"] + \"[REVIEW_END]\")\n",
    "        else:\n",
    "            reviews_bad.append(\"[REVIEW_START]\" + review[\"review\"] + \"[REVIEW_END]\")\n",
    "\n",
    "    reviews_good = reviews_good[: min(len(reviews_good), 50)]\n",
    "    reviews_bad = reviews_bad[: min(len(reviews_bad), 50)]\n",
    "\n",
    "    reviews_good_text = \"\\n\".join(reviews_good)\n",
    "    reviews_bad_text = \"\\n\".join(reviews_bad)\n",
    "\n",
    "    return reviews_good_text, reviews_bad_text\n",
    "\n",
    "\n",
    "reviews, _ = preprocess_reviews()"
   ]
  },
  {
   "cell_type": "code",
   "execution_count": null,
   "id": "b532d17b",
   "metadata": {},
   "outputs": [
    {
     "name": "stderr",
     "output_type": "stream",
     "text": [
      "100%|██████████| 10/10 [00:50<00:00,  5.01s/it]"
     ]
    },
    {
     "name": "stdout",
     "output_type": "stream",
     "text": [
      "Wins: 5, Losses: 5, Ties: 0\n"
     ]
    },
    {
     "name": "stderr",
     "output_type": "stream",
     "text": [
      "\n"
     ]
    }
   ],
   "source": [
    "eval_count = 10\n",
    "summaries = [\n",
    "    summarize(reviews, prompt, temperature=1.0, model=\"gpt-3.5-turbo-0125\")\n",
    "    .choices[0]\n",
    "    .message.content\n",
    "    for _ in range(eval_count)\n",
    "]\n",
    "wins, losses, ties = pairwise_eval_batch(\n",
    "    reviews, summaries, [summary_real_20251002 for _ in range(len(summaries))]\n",
    ")\n",
    "print(f\"Wins: {wins}, Losses: {losses}, Ties: {ties}\")"
   ]
  },
  {
   "cell_type": "markdown",
   "id": "ca39db24",
   "metadata": {},
   "source": [
    "### 모델 고도화 3 \n",
    "- Few-Shot Prompting"
   ]
  },
  {
   "cell_type": "code",
   "execution_count": null,
   "id": "d6f415f8",
   "metadata": {},
   "outputs": [
    {
     "name": "stderr",
     "output_type": "stream",
     "text": [
      "100%|██████████| 10/10 [00:46<00:00,  4.61s/it]"
     ]
    },
    {
     "name": "stdout",
     "output_type": "stream",
     "text": [
      "Wins: 3, Losses: 7, Ties: 0\n"
     ]
    },
    {
     "name": "stderr",
     "output_type": "stream",
     "text": [
      "\n"
     ]
    }
   ],
   "source": [
    "reviews_1shot, _ = preprocess_reviews(\"./resource/ninetree_pangyo.json\")\n",
    "summary_1shot = (\n",
    "    summarize(reviews_1shot, prompt, temperature=0.0, model=\"gpt-4-turbo-2024-04-09\")\n",
    "    .choices[0]\n",
    "    .message.content\n",
    ")\n",
    "prompt_1shot = f\"\"\"당신은 요약 전문가입니다. 사용자 숙소 리뷰들이 주어졌을 때 요약하는 것이 당신의 목표입니다.\n",
    "\n",
    "요약 결과는 다음 조건들을 충족해야 합니다:\n",
    "1. 모든 문장은 항상 존댓말로 끝나야 합니다.\n",
    "2. 숙소에 대해 소개하는 톤앤매너로 작성해주세요.\n",
    "  2-1. 좋은 예시\n",
    "    a) 전반적으로 좋은 숙소였고 방음도 괜찮았다는 평입니다.\n",
    "    b) 재방문 예정이라는 평들이 존재합니다.\n",
    "  2-2. 나쁜 예시\n",
    "    a) 좋은 숙소였고 방음도 괜찮았습니다.\n",
    "    b) 재방문 예정입니다.\n",
    "3. 요약 결과는 최소 2문장, 최대 5문장 사이로 작성해주세요.\n",
    "\n",
    "다음은 리뷰들과 요약 예시입니다.\n",
    "예시 리뷰들:\n",
    "{reviews_1shot}\n",
    "예시 요약 결과:\n",
    "{summary_1shot}\n",
    "    \n",
    "아래 숙소 리뷰들에 대해 요약해주세요:\"\"\"\n",
    "\n",
    "summaries = [\n",
    "    summarize(reviews, prompt, temperature=1.0, model=\"gpt-3.5-turbo-0125\")\n",
    "    .choices[0]\n",
    "    .message.content\n",
    "    for _ in range(eval_count)\n",
    "]\n",
    "wins, losses, ties = pairwise_eval_batch(\n",
    "    reviews, summaries, [summary_real_20251002 for _ in range(len(summaries))]\n",
    ")\n",
    "print(f\"Wins: {wins}, Losses: {losses}, Ties: {ties}\")"
   ]
  },
  {
   "cell_type": "code",
   "execution_count": 67,
   "id": "f11d66b3",
   "metadata": {},
   "outputs": [
    {
     "data": {
      "text/plain": [
       "['전반적으로 숙소는 깨끗하고 좋았습니다. 걱정했던 점은 없었고, 또 방문하고 싶은 숙소였습니다. 주변에 공사중이라는 점은 상관없었어요~ 숙소를 즐길 수 있는 편안한 시설들도 다양하게 제공되고 있어서 만족스러웠습니다~요. 재밌게 보내고 싶은 가족 여행이었습니다~ 호텔 직원분들도 친절하셨고, 수영장이 아이들과 재미있게 놀기 좋았어요. 이용 객 수가 많은 것에 비해 엘리베이터 대기 시간이 오래 걸렸지만, 다른 시설들은 즐길만했습니다. 종합적으로 만족스러운 숙박이었습니다~ ',\n",
       " '1. 깨끗하고 좋은 숙소입니다. 걱정할 필요 없이 즐기실 수 있을 것 같아요.\\n2. 수영장이 한 번만 이용할 수 있는 점이 아쉽지만, 아이와 함께 재미난 시간을 보낼 수 있었어요. 직원분들이 친절하셔서 기분 좋았습니다.\\n3. 가족 여행으로 머물었는데, 16층에 위치하여 뷰도 좋고 해변 접근성이 좋았습니다. 쾌적한 휴식을 취할 수 있었어요. \\n4. 전반적으로 편안한 양양여행을 즐겼다는 리뷰들이 많네요. 향후에도 재방문할 의사가 있는 것으로 보입니다.\\n5. 최상의 직원 친절함과 객실 컨디션을 자랑하는 숙소입니다. 다양한 부대시설도 만족스러웠지만 엘리베이터 대기 시간이 조금 길었습니다.',\n",
       " '전반적으로 좋았고, 숙소는 깨끗했습니다. 걱정했던 것이 하나도 없었어요. 또 다시 방문할 의향이 있습니다. 루프탑 수영장은 아이들에게 좋았지만, 엘리베이터 대기시간이 조금 길었어요. 수영장이 생각보다 작았지만, 전망이 너무 좋았습니다. 해당 숙소는 가족 휴가에 적합하며, 전반적으로 만족스러운 시설이었습니다.',\n",
       " '다양한 리뷰를 통해 숙소에 대한 평이 상당히 긍정적임을 알 수 있습니다. 숙소는 청결하고 위치가 좋아 해수욕을 즐길 수 있으며, 부대시설도 매우 만족스러운 것으로 보입니다. 다만 엘리베이터 대기시간이 긴 등 일부 불편함이 있으나 전반적으로는 만족도가 높았던 것으로 보입니다. 호텔 주변에는 맛집이나 놀거리가 다양하게 있어 즐거운 휴가를 보낼 수 있었다는 평이 많습니다. 호텔의 깨끗한 객실, 친절한 직원들, 다양한 부대시설 등이 손색이 없었던 것으로 요약할 수 있겠습니다.',\n",
       " '1. 숙소는 깨끗하고 좋았습니다. 안좋은 평가를 보고 걱정했지만 거슬리는 점이 없었습니다. 또 다시 방문할 의향이 있습니다.\\n2. 수영장은 하루에 한 번만 이용할 수 있어 아쉬운 점이 있지만, 아이와 즐거운 시간을 보냈습니다. 직원분들이 친절하고 주변은 공사중이지만 영향을 받지 않았습니다.\\n3. 16층에서 바라본 바다 전망이 좋고, 깨끗한 가족 여행을 즐겼습니다. 낙산해변 바로 앞이어서 매우 좋았습니다.',\n",
       " '전반적으로 좋았던 숙소입니다. 깨끗하고 쾌적한 객실과 해수욕장이 가까워서 편리했습니다. 다만 화장실에 냄새가 조금 나고 엘리베이터와 지하 주차장 이용이 어려웠습니다. 그래도 새로 지어진 객실은 깔끔하고 편안한 휴가를 보낼 수 있었습니다. 재방문 의사가 있습니다.',\n",
       " '1. 객실은 깨끗하고 도보로 해수욕장에 갈 수 있는 위치에 있어 편리했습니다.\\n2. 수영장이 작기는 했지만 바다를 볼 수 있는 인피니티풀이 매우 좋았습니다.\\n3. 엘리베이터는 조금 협소하고 대기시간이 길었지만, 전체적으로 만족스러운 숙박이었습니다. 좋은 가격에 휴가를 즐길 수 있었어요.',\n",
       " '- 바다가 가까워서 좋았고, 객실은 깨끗하고 필요한 물품은 카톡으로 요청할 수 있어서 편했습니다. 주변 인프라도 좋았습니다. 엘리베이터가 조금 부족한 느낌을 받았지만 전반적으로 만족스러웠습니다.\\n- 해수욕장이 바로 앞에 있어서 편리하고 편의시설도 충분해서 가족들이 만족했습니다. 아이들도 즐거워했다고 합니다.\\n- 숙박 컨디션이 좋았고 바다 전망도 좋았으며, 루프탑 수영장은 아이들에게 좋은 시설이었어요. 단, 엘리베이터 대기시간이 긴 것이 조금 불편한 점이었습니다. 위치와 청결도, 친절도 등 전반적으로 만족스러운 휴가였습니다.',\n",
       " '1. 숙소는 깨끗하고 좋았습니다. 걱정했던 것이 없어서 만족스러웠고, 또 다시 방문하고 싶은 마음이 듭니다.\\n2. 수영장은 한 번씩만 이용할 수 있어 아쉽지만, 아이와 즐거운 시간을 보낼 수 있는 좋은 경험이었습니다. 주변은 공사 중이지만 직원들의 친절함이 느껴졌고, 다양한 부대시설이 편리하게 이용되었습니다.\\n3. 해변을 내다보며 휴식을 취했고, 조식이 맛있었다는 후기들이 있었습니다. 엘리베이터 대기시간이 아쉬웠지만, 전반적으로 만족스러운 여행이었습니다. 호텔 주변에 즐길 거리가 많아서 편안한 휴가를 보낼 수 있었습니다.',\n",
       " '1. 깨끗하고 좋았습니다. 안좋은 평을 듣고 걱정했지만, 전혀 거슬리는 점이 없었습니다. 또 다시 방문하고 싶은 숙소입니다.\\n2. 수영장은 한 번만 이용할 수 있어 아쉬웠지만, 아이와 즐겁게 놀았습니다. 직원분들이 친절하고, 주변이 공사중인 느낌이지만 상관없었습니다. 방음이 아쉽고, 남자 직원분의 친절성을 조금 더 기대했지만 전체적으로 부대시설과 해수욕장이 좋았습니다.\\n3. 가족여행으로 갔는데, 16층의 뷰가 좋고, 바로 앞 해변으로 들어갈 수 있어 좋았습니다. 전반적으로 편안하게 쉬다 왔으며, 해수욕장이 가까워서 좋았습니다. 엘리베이터 대기시간이 길었지만, 체크인, 체크아웃 때 이용에는 문제가 없었습니다.']"
      ]
     },
     "execution_count": 67,
     "metadata": {},
     "output_type": "execute_result"
    }
   ],
   "source": [
    "summaries"
   ]
  },
  {
   "cell_type": "code",
   "execution_count": null,
   "id": "aa07a0d6",
   "metadata": {},
   "outputs": [
    {
     "name": "stderr",
     "output_type": "stream",
     "text": [
      "100%|██████████| 10/10 [01:14<00:00,  7.49s/it]"
     ]
    },
    {
     "name": "stdout",
     "output_type": "stream",
     "text": [
      "Wins: 2, Losses: 8, Ties: 0\n"
     ]
    },
    {
     "name": "stderr",
     "output_type": "stream",
     "text": [
      "\n"
     ]
    }
   ],
   "source": [
    "prompt_1shot = f\"\"\"당신은 요약 전문가입니다. 사용자 숙소 리뷰들이 주어졌을 때 요약하는 것이 당신의 목표입니다. 다음은 리뷰들과 요약 예시입니다.\n",
    "예시 리뷰들:\n",
    "{reviews_1shot}\n",
    "예시 요약 결과:\n",
    "{summary_1shot}\n",
    "    \n",
    "아래 숙소 리뷰들에 대해 요약해주세요:\"\"\"\n",
    "\n",
    "summaries = [\n",
    "    summarize(reviews, prompt_1shot, temperature=1.0, model=\"gpt-3.5-turbo-0125\")\n",
    "    .choices[0]\n",
    "    .message.content\n",
    "    for _ in range(eval_count)\n",
    "]\n",
    "wins, losses, ties = pairwise_eval_batch(\n",
    "    reviews, summaries, [summary_real_20251002 for _ in range(len(summaries))]\n",
    ")\n",
    "print(f\"Wins: {wins}, Losses: {losses}, Ties: {ties}\")"
   ]
  },
  {
   "cell_type": "code",
   "execution_count": 69,
   "id": "6bb115d9",
   "metadata": {},
   "outputs": [
    {
     "data": {
      "text/plain": [
       "['이 숙소는 바다뷰와 깨끗한 객실로 많은 방문객들에게 좋은 평가를 받고 있습니다. 수영장 부대시설이 좋고, 주변 편의시설도 다양하게 위치해 있어 휴가를 즐기기에 좋은 장소로 평가받고 있습니다. 그러나 일부 방문객들은 엘리베이터가 협소하고 불편하다는 의견을 제기했습니다. 전반적으로 만족도가 높은 숙소로, 다양한 부대시설과 깨끗한 객실 상태로 재방문 의사도 높은 것으로 보입니다.',\n",
       " '이 숙소는 바다 뷰와 전반적으로 깨끗한 객실 컨디션으로 많은 방문객들에게 좋은 평가를 받고 있습니다. 부대시설도 다양하게 구비되어 있어 가족 여행객들이 편리하게 놀거리를 찾을 수 있습니다. 하지만 엘리베이터가 협소하여 이용에 어려움이 있고, 화장실의 문제 등 몇 가지 부분에서 향상이 필요한 부분이 있습니다. 전반적으로는 가격대비 좋은 숙소로 추천됩니다.',\n",
       " '숙소는 전체적으로 청결하고 편안한 환경을 제공하며, 특히 수영장 시설이 인기가 많다는 평가를 받고 있습니다. 주변에 다양한 식당과 편의시설이 위치해 있어 편리함을 더하고, 방문객들은 친절한 서비스와 쾌적한 객실 상태에 만족을 표현하고 있습니다. 다만, 엘리베이터 혼잡이나 일부 객실의 화장실 문제 같은 일부 부분에 대한 불편함이 언급되고 있습니다. 전반적으로 이 숙소는 가족, 친구 등과 함께 즐길 수 있는 부대시설을 갖추고 있어 권장됩니다.',\n",
       " '이 숙소는 위치가 바다와 가까워서 해수욕하기에 좋다는 평가를 받고 있으며, 객실 컨디션과 시설 등도 만족스러운 편입니다. 전반적으로 깔끔하고 친절한 서비스로 고객들에게 만족을 준다는 의견이 있습니다. 다만, 엘리베이터가 혼잡하고 긴 대기시간 때문에 불편함을 느끼는 손님들도 있었습니다. 또한, 몇몇 객실에서는 변기와 샤워공간이 협소하다는 언급도 있습니다. 종합적으로는 가족이나 친구들과 함께하는 여름 휴가로 적합한 숙소로 추천되고 있습니다.',\n",
       " '이 숙소는 깨끗하고 아늑한 객실을 제공하며, 수영장이 인기가 많아 가족 단위로 방문하는 곳으로 좋은 평가를 받았습니다. 주변에 편의시설이 잘 갖춰져 있어 휴가를 즐기기에 좋은 환경이었으나, 엘리베이터 대기시간이 다소 길었던 점과 화장실의 조금된 냄새가 아쉬웠던 것으로 보입니다. 전체적으로 만족도가 높고, 다양한 부대시설과 편의시설을 이용하며 편안한 휴가를 즐길 수 있는 곳으로 손님들이 재방문을 희망하는 것으로 나타났습니다.',\n",
       " '이 숙소는 청결하고 편안한 숙소로서 평가를 받고 있습니다. 특히 수영장 시설과 해수욕장과의 가까운 거리가 매력적으로 언급되고 있습니다. 객실 상태와 시설에 대한 대부분의 리뷰는 만족스러운 평가를 받고 있지만, 엘레베이터가 협소하고 사용하기 불편하다는 의견도 있습니다. 또한, 어메니티 부족과 조식이 다소 심플하다는 의견도 있습니다. 종합적으로 보면 이 숙소는 청결하고 위치가 좋으며 가족 여행에 적합하다는 평가를 받고 있습니다. 다만 엘레베이터가 협소하고 조식이 심플하다는 점이 아쉬움으로 언급되었습니다.',\n",
       " '이 숙소는 대체적으로 객실 상태가 깨끗하고 청결하며, 바다 뷰를 즐길 수 있는 좋은 위치에 있습니다. 부대시설은 다양하고 낙산해수욕장이 가까워 해수욕을 할 수 있어서 가족 여행객들에게 추천됩니다. 다만, 일부 방문객들은 엘리베이터가 협소하고 서비스 이용에 불편함을 느끼는 사례가 있습니다. 전반적으로 가격 대비 만족스러운 숙소로 평가받고 있습니다.',\n",
       " '이 숙소는 객실이 깨끗하고 쾌적하며, 해변과 가까워서 해수욕을 즐기기에 좋은 위치에 있습니다. 루프탑 수영장이 인기가 많고, 부대시설로는 오락실, 편의점 등이 잘 갖춰져 있어 편리합니다. 다만, 엘리베이터가 부족하고 문제가 있어서 대기시간이 길었던 점이 아쉬웠습니다. 전체적으로는 침대가 편안하고 조식도 맛있으며 가격 대비 만족스러운 편입니다. 다만 화장실 문제와 엘리베이터 대기시간 때문에 불편함을 느낀 측면도 있습니다. 함께하는 가족 혹은 친구와 함께 휴식을 취하기 좋은 숙소로 추천할 만합니다.',\n",
       " '이 숙소는 전반적으로 청결하고 편안한 환경을 제공하는 것으로 평가받았습니다. 특히 수영장 시설이 좋다는 평가를 받았고, 주변에 다양한 식당과 편의시설이 위치해 편리함을 더했습니다. 방문객들은 친절한 서비스와 쾌적한 객실 상태에 만족을 표현하며, 재방문 의사를 나타내기도 했습니다. 다만 일부 방문객들은 엘리베이터 대기 시간과 부분적인 냄새 등을 언급했습니다. 전반적으로 이 숙소는 휴가나 휴식을 취하기에 좋은 선택지로 추천됩니다.',\n",
       " '이 숙소는 대체적으로 청결하고 위치가 좋아서 다양한 휴가 활동을 할 수 있는 장점을 갖추고 있습니다. 수영장을 즐기는 가족들에게 인기가 많은 숙소이며, 부대시설이 다양하고 편의시설이 잘 갖춰져 있어 휴가를 만족스럽게 보낼 수 있는 환경을 제공합니다. 다만, 일부 방문객들은 엘리베이터 혼잡과 화장실 문제 등을 언급하여 불편함을 나타내었습니다. 전반적으로 이 숙소는 다양한 휴가 활동을 즐기고자 하는 방문객에게 적합한 선택이라고 할 수 있습니다.']"
      ]
     },
     "execution_count": 69,
     "metadata": {},
     "output_type": "execute_result"
    }
   ],
   "source": [
    "summaries"
   ]
  },
  {
   "cell_type": "code",
   "execution_count": null,
   "id": "bbd866d0",
   "metadata": {},
   "outputs": [],
   "source": [
    "reviews_1shot, _ = preprocess_reviews(\"./resource//ninetree_pangyo.json\")\n",
    "summary_1shot = (\n",
    "    summarize(reviews_1shot, prompt, temperature=0.0, model=\"gpt-4-turbo-2024-04-09\")\n",
    "    .choices[0]\n",
    "    .message.content\n",
    ")"
   ]
  },
  {
   "cell_type": "code",
   "execution_count": null,
   "id": "e25b16a1",
   "metadata": {},
   "outputs": [
    {
     "name": "stderr",
     "output_type": "stream",
     "text": [
      "100%|██████████| 10/10 [00:53<00:00,  5.36s/it]"
     ]
    },
    {
     "name": "stdout",
     "output_type": "stream",
     "text": [
      "Wins: 6, Losses: 4, Ties: 0\n"
     ]
    },
    {
     "name": "stderr",
     "output_type": "stream",
     "text": [
      "\n"
     ]
    }
   ],
   "source": [
    "reviews_2shot, _ = preprocess_reviews(\"./resource/ninetree_yongsan.json\")\n",
    "summary_2shot = (\n",
    "    summarize(\n",
    "        reviews_2shot, prompt_1shot, temperature=0.0, model=\"gpt-4-turbo-2024-04-09\"\n",
    "    )\n",
    "    .choices[0]\n",
    "    .message.content\n",
    ")\n",
    "\n",
    "prompt_2shot = f\"\"\"당신은 요약 전문가입니다. 사용자 숙소 리뷰들이 주어졌을 때 요약하는 것이 당신의 목표입니다. 다음은 리뷰들과 요약 예시입니다.\n",
    "\n",
    "예시 리뷰들 1:\n",
    "{reviews_1shot}\n",
    "예시 요약 결과 1:\n",
    "{summary_1shot}\n",
    "\n",
    "예시 리뷰들 2:\n",
    "{reviews_2shot}\n",
    "예시 요약 결과 2:\n",
    "{summary_2shot}\n",
    "    \n",
    "아래 숙소 리뷰들에 대해 요약해주세요:\"\"\"\n",
    "\n",
    "summaries = [\n",
    "    summarize(reviews, prompt_2shot, temperature=1.0, model=\"gpt-3.5-turbo-0125\")\n",
    "    .choices[0]\n",
    "    .message.content\n",
    "    for _ in range(eval_count)\n",
    "]\n",
    "wins, losses, ties = pairwise_eval_batch(\n",
    "    reviews, summaries, [summary_real_20251002 for _ in range(len(summaries))]\n",
    ")\n",
    "print(f\"Wins: {wins}, Losses: {losses}, Ties: {ties}\")"
   ]
  },
  {
   "cell_type": "code",
   "execution_count": 72,
   "id": "10c42f91",
   "metadata": {},
   "outputs": [
    {
     "data": {
      "text/plain": [
       "['이 숙소는 바다 뷰를 감상할 수 있고, 객실 컨디션이 깨끗하며 부대시설이 만족스러웠습니다. 하지만 엘리베이터 부족으로 불편함을 느낀 점이 있었고, 화장실 세면대의 물이 잘 내려가지 않는 등 몇 가지 문제점이 있었던 것으로 보입니다. 다양한 편의시설과 놀거리가 있어 가족 휴가로 이용하기에 적합한 숙소라는 의견이 많습니다. 요약 결과는 다소 변화가 있는 것으로 판단됩니다. 별도의 평가 지표를 설정하여 테스트해보세요.',\n",
       " '요약 결과:\\n다양한 여행객들의 리뷰를 종합해본 결과, 대부분의 방문객들이 깨끗하고 쾌적한 숙박환경과 수영장 시설을 칭찬하고 있습니다. 또한, 주변 식당과 편의시설의 편리함도 언급되었습니다. 그러나 일부 리뷰에서는 엘리베이터의 혼잡과 화장실 문제, 그리고 어메니티 부족을 언급하는 경우도 있었습니다. 전반적으로는 숙박 환경과 서비스에 만족한 고객이 많았으며, 높은 재방문 의사를 밝히는 의견이 많았습니다. 위치와 숙소 청결을 중시하는 분들에게 적합한 숙박시설로 평가됩니다.',\n",
       " '다수의 리뷰들에서는 숙소가 깨끗하고 쾌적하며 위치가 좋다는 긍정적인 평가를 받았습니다. 방음이나 엘리베이터 문제, 수영장 이용 규칙 등 일부 불편한 점들도 언급되었지만, 전반적으로는 숙소의 청결도와 부대시설에 대한 만족도가 높은 것으로 보입니다. 숙소 위치와 해변 근접성, 객실 내용, 서비스 수준 등을 고려하면 다양한 연령대와 가족 단위에게 적합한 숙소로 평가됩니다. 요약하면, 깨끗하고 쾌적한 환경의 숙소로 위치와 부대시설이 만족스러운 것으로 전반적인 리뷰 결론을 이끌어 낼 수 있을 것입니다.',\n",
       " '다양한 리뷰를 요약해 보겠습니다. \\n\\n1. 숙소는 청결하고 수영장이 좋아서 인기가 많습니다. 직원들도 친절하고 주변에 다양한 식당과 편의시설이 위치해 있어 편리함을 더해줍니다. 재방문 의사가 높은 편입니다.\\n2. 객실은 깨끗하고 쾌적하며, 수영장이나 인근 편의시설을 이용해 즐거운 휴가를 보낼 수 있습니다. 일부 엘레베이터가 혼잡하여 불편함을 느낀 리뷰도 있습니다.\\n3. 해수욕장이 인접하며, 조식이 맛있고 부대시설도 좋다는 호평이 많습니다. 다만, 주차장이 힘들다는 언급도 있습니다.\\n4. 바다 뷰와 깨끗한 객실, 루프탑 수영장 등이 좋은 평가를 받고 있지만, 일부 불편한 점도 언급되고 있습니다.\\n5. 청결한 객실과 편의시설이 좋은 리조트다 하지만, 엘레베이터 문제가 지속적으로 언급되고 있습니다.\\n\\n이렇게 다양한 의견이 있지만, 대체적으로 청결하고 편의시설이 잘 갖춰진 숙소로 평가되고 있습니다. 휴가나 가족 여행을 계획 중이라면 좋은 선택지가 될 수 있을 것 같습니다.',\n",
       " '요약 결과:\\n이 숙소는 깨끗하고 청결한 객실과 편리한 위치로 많은 방문객들로부터 호평을 받고 있습니다. 부대시설로는 루프탑 수영장이 인기가 많으며, 주변에 다양한 맛집과 놀거리가 위치하고 있어 휴가를 즐기기에 적합합니다. 다만, 엘리베이터 대기 시간이 길고 화장실의 냄새에 대한 언급이 있지만, 전반적으로 만족도가 높은 숙소로 평가받고 있습니다.재방문 의사가 높은 숙소로, 다양한 연령층과 가족 단위의 방문객들에게 좋은 선택지로 보입니다.',\n",
       " '이 숙소는 청결한 객실과 좋은 시설, 친절한 직원 등으로 많은 방문객들의 호평을 받고 있습니다. 특히 수영장이 인기가 많고 바다를 보며 즐기기에 좋다는 의견이 많습니다. 하지만 엘리베이터가 협소하고 수영장 이용 시기에 따라 연결된 통로가 조금 혼잡할 수 있는 등 일부 불편함이 언급되었습니다. 전반적으로 부대시설도 다양하고 해수욕장 근처에 위치해 있어 가족 또는 친구들과의 여행에 적합한 곳으로 평가되고 있습니다. 전체적으로 만족도가 높아 재방문 의사도 많이 있는 것으로 나타났습니다.',\n",
       " '이 숙소는 전반적으로 청결하고 시설이 좋아서 만족하는 리뷰가 많습니다. 수영장이나 인근 해수욕장을 이용해서 가족이나 아이들과 놀기에 좋다는 의견이 많이 나옵니다. 또한, 주변에 편의시설이 잘 갖춰져 있어 휴가를 즐기기에 편리하다는 평가도 받았습니다. 그러나 엘리베이터가 협소하고 불편한 부분을 지적하는 의견도 몇몇 있었습니다. 전체적으로는 다양한 연령대에게 즐거운 휴식을 제공하는 숙소로 평가되었습니다.',\n",
       " '이 숙소는 대체로 청결하고 객실 상태가 좋다는 평가를 받고 있습니다. 주변에 해수욕장이 가까워서 해수욕을 하기에도 좋은 위치에 있습니다. 그러나 엘리베이터가 협소하거나 불편한 측면이 있을 수 있습니다. 부대시설은 다양하게 갖춰져 있어서 즐길거리가 많은 것으로 보입니다. 전체적으로는 높은 만족도를 보여주는 숙소로 보입니다.하지만 모든 리뷰를 종합해보았을 때, 엘리베이터의 협소함과 해수욕장 주변의 냄새, 화장실의 냄새 등 몇 가지 불편한 점이 언급되었습니다. 하지만 전체적으로는 다양한 부대시설과 해수욕을 즐기기에 좋은 위치, 그리고 깨끗한 객실 상태로 만족도가 높은 숙소로 평가됩니다.',\n",
       " '일반적으로 숙소는 청결하고 쾌적한 환경을 제공하며, 수영장 시설이 좋은 것으로 평가되고 있습니다. 직원의 친절한 서비스와 주변에 다양한 식당과 편의시설이 위치해 있어 휴가를 즐기기에 좋은 곳으로 손꼽히고 있습니다. 다수의 방문객이 재방문 의사를 표현하고 있으며, 주변 환경이나 부대시설들이 만족스럽다고 평가하고 있습니다. 그러나 몇몇 리뷰들에서는 엘리베이터의 혼잡과 화장실 문제에 대한 언급이 있었습니다. 종합적으로 이 숙소는 다양한 연령대와 가족 단위의 방문객들에게 적합하며, 편안하고 즐거운 시간을 보낼 수 있는 곳으로 추천됩니다.',\n",
       " '리뷰들을 요약하자면, 대부분의 방문객들은 숙소의 청결한 상태와 좋은 위치에 만족하고 있습니다. 수영장이나 부대시설 또한 좋다는 평가가 많이 나왔습니다. 그러나 엘리베이터가 혼잡하거나 특정 시설의 부족함을 언급하는 리뷰도 있습니다. 전반적으로 가격대비 만족도가 높고 가족이나 아이들과 함께하는 여행에 적합한 숙소로 여겨지고 있습니다. 생각하는만큼 시설과 서비스가 좋아서 재방문 의사가 높은 편입니다.']"
      ]
     },
     "execution_count": 72,
     "metadata": {},
     "output_type": "execute_result"
    }
   ],
   "source": [
    "summaries"
   ]
  },
  {
   "cell_type": "markdown",
   "id": "0c00ac82",
   "metadata": {},
   "source": [
    "# 결과가 항상 좋아지지는 않는다"
   ]
  },
  {
   "cell_type": "code",
   "execution_count": null,
   "id": "09c107bd",
   "metadata": {},
   "outputs": [],
   "source": []
  }
 ],
 "metadata": {
  "kernelspec": {
   "display_name": ".venv",
   "language": "python",
   "name": "python3"
  },
  "language_info": {
   "codemirror_mode": {
    "name": "ipython",
    "version": 3
   },
   "file_extension": ".py",
   "mimetype": "text/x-python",
   "name": "python",
   "nbconvert_exporter": "python",
   "pygments_lexer": "ipython3",
   "version": "3.11.9"
  }
 },
 "nbformat": 4,
 "nbformat_minor": 5
}
